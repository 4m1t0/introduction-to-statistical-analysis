{
 "cells": [
  {
   "cell_type": "code",
   "execution_count": 1,
   "metadata": {},
   "outputs": [],
   "source": [
    "import numpy as np\n",
    "import pandas as pd\n",
    "import plotly.express as px"
   ]
  },
  {
   "cell_type": "markdown",
   "metadata": {},
   "source": [
    "#### exercises 3.2.3\n",
    "$$\n",
    "    \\begin{align*}\n",
    "        S_z^2 &= \\frac{1}{n}\\sum_{i=1}^{n}(z_i-\\bar{z})^2\\\\\n",
    "            &= \\frac{1}{n}\\sum_{i=1}^{n}\\lbrack x_i+y_i-(\\bar{x}+\\bar{y})\\rbrack^2\\\\\n",
    "            &= \\frac{1}{n}\\sum_{i=1}^{n}\\lbrack (x_i-\\bar{x}) + (y_i-\\bar{y})\\rbrack^2\\\\\n",
    "            &= \\frac{1}{n}\\sum_{i=1}^{n}(x_i-\\bar{x})^2 + \\frac{2}{n}\\sum_{i=1}^{n}(x_i-\\bar{x})(y_i-\\bar{y})+\\frac{1}{n}\\sum_{i=1}^{n}(y_i-\\bar{y})^2\\\\\n",
    "            &= S_x^2 + 2S_{xy} + S_y^2\n",
    "    \\end{align*}\n",
    "$$"
   ]
  },
  {
   "cell_type": "markdown",
   "metadata": {},
   "source": [
    "#### exercises 3.2.4\n",
    "$\\frac{x_i-\\bar{x}}{S_x}, \\frac{y_i-\\bar{y}}{S_y}$ は $x_i, y_i$ の基準化変量でありその値をそれぞれ $x_i^*, y_i^*$ とする。  \n",
    "したがってそれらの平均 $\\bar{x}^*, \\bar{y}^*$ の値は0である。  \n",
    "よって $x_i^*, y_i^*$ の共分散は\n",
    "$$\n",
    "    \\begin{align*}\n",
    "        \\frac{1}{n}\\sum_{i=1}^{n}x_i^*y_i^*-\\bar{x}^*\\bar{y}^* &= \\frac{1}{n}\\sum_{i=1}^{n}x_i^*y_i^*\\\\\n",
    "            &= \\frac{1}{n}\\sum_{i=1}^{n}\\left(\\frac{x_i-\\bar{x}}{S_x}\\right)\\left(\\frac{y_i-\\bar{y}}{S_y}\\right)\n",
    "    \\end{align*}\n",
    "$$\n",
    "となり、これは $x$ と $y$ の相関係数である。  \n",
    "よって、相関係数は基準化変量の共分散でもある。"
   ]
  },
  {
   "cell_type": "markdown",
   "metadata": {},
   "source": [
    "#### exercises 3.2.5\n",
    "$x_i, y_i$ とそれらに対して一次変換を行った $z_i, w_i$ の基準化変量は変わらない。  \n",
    "よって共分散 $S_{xy}$ と $S_{zw}$ は一致する。  \n",
    "問題3.2.4で示したとおり相関係数は基準化変量の共分散でもあるため $r_{xy}=r_{zw}$ となる。"
   ]
  },
  {
   "cell_type": "markdown",
   "metadata": {},
   "source": [
    "#### theorem 3.4\n",
    "$$\n",
    "    \\begin{align*}\n",
    "        \\sum_{i=1}^{n}x_i\\epsilon_i &= \\sum_{i=1}^{n}(y_i-\\bar{y})x_i -\\hat{\\beta_1}\\sum_{i=1}^{n}(x_i-\\bar{x})x_i\\\\\n",
    "            &= \\sum_{i=1}^{n}(y_i-\\bar{y})x_i - \\frac{S_{xy}}{S_x^2}\\sum_{i=1}^{n}(x_i-\\bar{x})x_i\\\\\n",
    "            &= \\sum_{i=1}^{n}x_iy_i - \\bar{y}\\sum_{i=1}^{n}x_i - \\frac{S_{xy}}{S_x^2}\\left(\\sum_{i=1}^{n}x_i^2 -\\bar{x}\\sum_{i=1}^{n}x_i\\right)\\\\\n",
    "            &= n\\frac{\\sum_{i=1}^{n}x_iy_i}{n} - n\\bar{y}\\frac{\\sum_{i=1}^{n}x_i}{n} - \\frac{S_{xy}}{S_x^2}\\left(n\\frac{\\sum_{i=1}^{n}x_i^2}{n} -n\\frac{\\bar{x}\\sum_{i=1}^{n}x_i}{n}\\right)\\\\\n",
    "            &= n\\left(\\frac{1}{n}\\sum_{i=1}^{n}x_iy_i - \\bar{x}\\bar{y} \\right)- n\\frac{S_{xy}}{S_x^2}\\left(\\frac{1}{n}\\sum_{i=1}^{n}x_i^2 -\\frac{\\bar{x}\\sum_{i=1}^{n}x_i}{n}\\right)\\\\\n",
    "            &= nS_{xy}-n\\frac{S_{xy}}{S_x^2}S_x^2\\\\\n",
    "            &= 0.\n",
    "    \\end{align*}\n",
    "$$"
   ]
  },
  {
   "cell_type": "markdown",
   "metadata": {},
   "source": [
    "#### exercises 3.3.3.1\n",
    "$$\n",
    "    \\begin{align*}\n",
    "        \\sum_{i=1}^{n}(y_i-\\hat{\\beta}x_i)^2 &= \\sum_{i=1}^{n}y_i^2 -2\\hat{\\beta}\\sum_{i=1}^{n}x_iy_i + \\hat{\\beta}^2\\sum_{i=1}^{n}x_i^2.\n",
    "    \\end{align*}\n",
    "$$\n",
    "$A=\\sum_{i=1}^{n}x_i^2, B=\\sum_{i=1}^{n}x_iy_i, C=\\sum_{i=1}^{n}y_i^2$ とすると、\n",
    "$$\n",
    "    \\begin{align*}\n",
    "        \\sum_{i=1}^{n}y_i^2 -2\\hat{\\beta}\\sum_{i=1}^{n}x_iy_i + \\sum_{i=1}^{n}x_i^2 &= A\\hat{\\beta}^2 -2\\hat{\\beta}B + C\\\\\n",
    "            &= A(\\hat{\\beta}^2-2\\frac{B}{A}\\hat{\\beta})+C\\\\\n",
    "            &= A(\\hat{\\beta}-\\frac{B}{A})+C-\\frac{B^2}{A}.\n",
    "    \\end{align*}\n",
    "$$\n",
    "上式を最小にするのは $\\hat{\\beta}=\\frac{B}{A}$ のときであるため、$\\hat{\\beta}=\\frac{\\sum_{i=1}^{n}x_iy_i}{\\sum_{i=1}^{n}x_i^2}.$"
   ]
  },
  {
   "cell_type": "markdown",
   "metadata": {},
   "source": [
    "#### exercises 3.3.3.2\n",
    "$$\n",
    "    \\begin{align*}\n",
    "        \\sum_{i=1}^{n}x_i\\epsilon_i &= \\sum_{i=1}^{n}x_i(y_i-\\hat{\\beta}x_i)\\\\\n",
    "            &= \\sum_{i=1}^{n}x_iy_i - \\frac{\\sum_{i=1}^{n}x_iy_i}{\\sum_{i=1}^{n}x_i^2} \\sum_{i=1}^{n}x_i^2\\\\\n",
    "            &= 0.\n",
    "    \\end{align*}\n",
    "$$"
   ]
  },
  {
   "cell_type": "markdown",
   "metadata": {},
   "source": [
    "#### exercises 3.3.5\n",
    "$$\n",
    "    \\begin{align*}\n",
    "        \\hat{\\beta_0} = \\bar{y} - \\hat{\\beta_1}\\bar{x} \\Leftrightarrow \\bar{y} = \\hat{\\beta_0} + \\hat{\\beta_1}\\bar{x}.\n",
    "    \\end{align*}\n",
    "$$\n",
    "よって、$(\\bar{x}, \\bar{y})$ は常に回帰直線上に存在する。"
   ]
  },
  {
   "cell_type": "markdown",
   "metadata": {},
   "source": [
    "#### exercises 3.4.1\n",
    "$x_i=\\alpha+\\beta z_i + \\epsilon_i$ を推定したときの残差を $\\hat{\\epsilon_i}$ とする。\n",
    "$$\n",
    "    \\begin{align*}\n",
    "        & \\hat{\\epsilon_{i}} = (x_i-\\bar{x})-\\hat{\\beta}(z_i-\\bar{z})\\\\\n",
    "        &\\Leftrightarrow \\hat{\\epsilon_{i}}^2 = (x_i - \\bar{x})^2  -2(x_i-\\bar{x})(z_i-\\bar{z}) + \\hat{\\beta}^2(z_i-\\bar{z})^2\\\\\n",
    "        &\\Leftrightarrow \\frac{1}{n}\\sum_{i=1}^{n}\\hat{\\epsilon_{i}}^2 = \\frac{1}{n}\\sum_{i=1}^{n}(x_i - \\bar{x})^2  -2\\hat{\\beta}\\frac{1}{n}\\sum_{i=1}^{n}(x_i-\\bar{x})(z_i-\\bar{z}) + \\hat{\\beta}^2\\frac{1}{n}\\sum_{i=1}^{n}(z_i-\\bar{z})^2\\\\\n",
    "        &\\Leftrightarrow \\frac{1}{n}\\sum_{i=1}^{n}\\hat{\\epsilon_{i}}^2 = S_x^2 - 2\\hat{\\beta}S_{xy} + \\hat{\\beta}^2S_z^2\\\\\n",
    "        &\\Leftrightarrow \\frac{1}{n}\\sum_{i=1}^{n}\\hat{\\epsilon_{i}}^2 = S_x^2 - 2 \\frac{S_{zx}}{S_z^2} + \\frac{S_{zx}^2}{(S_z^2)^2} S_z^2\\\\\n",
    "        &\\Leftrightarrow \\frac{1}{n}\\sum_{i=1}^{n}\\hat{\\epsilon_{i}}^2 = S_x^2 - \\frac{S_{zx}}{S_z^2}\\\\\n",
    "        &\\Leftrightarrow \\frac{1}{n}\\sum_{i=1}^{n}\\hat{\\epsilon_{i}}^2 = S_x^2 \\left(1 - \\frac{S_{zx}}{S_x^2S_z^2}\\right)\\\\\n",
    "        &\\Leftrightarrow \\frac{1}{n}\\sum_{i=1}^{n}\\hat{\\epsilon_{i}}^2 = S_x^2 (1-r_{xz}^2).\n",
    "    \\end{align*}\n",
    "$$\n",
    "同様に$y_i=\\alpha+\\delta z_i + \\epsilon_i'$ を推定したときの残差を $\\hat{\\epsilon_i'}$ とすると $\\frac{1}{n}\\sum_{i=1}^{n}\\hat{\\epsilon_{i}'}^2 = S_y^2 (1-r_{yz}^2).$\n",
    "\n",
    "残差の平均は0であるため共分散は $\\frac{1}{n}\\sum_{i=1}^{n}\\hat{\\epsilon_i}\\hat{\\epsilon_i'}$ となる。  \n",
    "$$\n",
    "    \\begin{align*}\n",
    "        \\frac{1}{n}\\sum_{i=1}^{n}\\hat{\\epsilon_i}\\hat{\\epsilon_i'} &= \\frac{1}{n}\\sum_{i=1}^{n}\\lbrack(x_i-\\bar{x})-\\hat{\\beta}(z_i-\\bar{z})\\rbrack\\lbrack(y_i-\\bar{y})-\\hat{\\delta}(z_i-\\bar{z})\\rbrack\\\\\n",
    "            &= \\frac{1}{n}\\sum_{i=1}^{n}\\lbrack(x_i-\\bar{x})(y_i-\\bar{y})-\\hat{\\delta}(x_i-\\bar{x})(z_i-\\bar{z})-\\hat{\\beta}(y_i-\\bar{y})(z_i-\\bar{z})+\\hat{\\beta}\\hat{\\delta}(z_i-\\bar{z})^2\\rbrack.\n",
    "    \\end{align*}\n",
    "$$\n",
    "$\\hat{\\beta}=\\frac{S_{xz}}{S_x^2}, \\hat{\\delta}=\\frac{S_{yz}}{S_z^2}$ なので、\n",
    "$$\n",
    "    \\begin{align*}\n",
    "        \\frac{1}{n}\\sum_{i=1}^{n}\\lbrack(x_i-\\bar{x})(y_i-\\bar{y})-\\hat{\\delta}(x_i-\\bar{x})(z_i-\\bar{z})-\\hat{\\beta}(y_i-\\bar{y})(z_i-\\bar{z})+\\hat{\\beta}\\hat{\\delta}(z_i-\\bar{z})^2\\rbrack &= S_{xy} - \\frac{S_{yz}}{S_z^2}S_{xz}-\\frac{S_{xz}}{S_z^2}S_{yz}+\\frac{S_{yz}}{S_z^2}\\frac{S_{xz}}{S_z^2}S_z^2\\\\\n",
    "            &= S_{xy} - 2 \\frac{S_{xz}S_{yz}}{S_z^2} + \\frac{S_{xz}S_{yz}}{S_z^2}\\\\\n",
    "            &= S_{xy} - \\frac{S_{xz}S_{yz}}{S_z^2}.\n",
    "    \\end{align*}\n",
    "$$\n",
    "残差 $\\hat{\\epsilon_i}, \\hat{\\epsilon_i'}$ の相関係数 $r_{\\hat{\\epsilon_i} \\hat{\\epsilon_i'}}$ は、\n",
    "$$\n",
    "    \\begin{align*}\n",
    "        r_{\\hat{\\epsilon_i} \\hat{\\epsilon_i'}} &= \\frac{S_{\\hat{\\epsilon_i} \\hat{\\epsilon_i'}}}{S_{\\hat{\\epsilon_i}}S_{\\hat{\\epsilon_i'}}}\\\\\n",
    "            &= \\frac{\\frac{1}{n}\\sum_{i=1}^{n}\\hat{\\epsilon_i}\\hat{\\epsilon_i'}}{\\sqrt{\\frac{1}{n}\\sum_{i=1}^{n}\\hat{\\epsilon_i}^2}\\sqrt{\\frac{1}{n}\\sum_{i=1}^{n}\\hat{\\epsilon_i'}^2}}\\\\\n",
    "            &= \\frac{S_{xy}-\\frac{S_{xz}S_{yz}}{S_z^2}}{\\sqrt{S_x^2(1-r_{xz}^2)}\\sqrt{S_y^2(1-r_{yz}^2)}}\\\\\n",
    "            &= \\frac{S_{xy}-\\frac{S_{xz}S_{yz}}{S_z^2}}{S_x\\sqrt{1-r_{xz}^2}S_y\\sqrt{1-r_{yz}^2}}\\\\\n",
    "            &= \\frac{\\frac{S_z^2S_{xy}-S_{xz}S_{yz}}{S_xS_yS_z^2}}{\\sqrt{1-r_{xz}^2}\\sqrt{1-r_{yz}^2}}\\\\\n",
    "            &= \\frac{\\frac{S_z^2}{S_z^2}\\frac{S_{xy}}{S_xS_y}-\\frac{S_{xz}}{S_xS_z}\\frac{S_{yz}}{S_yS_z}}{\\sqrt{1-r_{xz}^2}\\sqrt{1-r_{yz}^2}}\\\\\n",
    "            &= \\frac{r_{xy}-r_{xz}r_{yz}}{\\sqrt{1-r_{xz}^2}\\sqrt{1-r_{yz}^2}}.\n",
    "    \\end{align*}\n",
    "$$"
   ]
  }
 ],
 "metadata": {
  "kernelspec": {
   "display_name": "Python 3",
   "language": "python",
   "name": "python3"
  },
  "language_info": {
   "codemirror_mode": {
    "name": "ipython",
    "version": 3
   },
   "file_extension": ".py",
   "mimetype": "text/x-python",
   "name": "python",
   "nbconvert_exporter": "python",
   "pygments_lexer": "ipython3",
   "version": "3.6.8"
  }
 },
 "nbformat": 4,
 "nbformat_minor": 2
}
